{
 "cells": [
  {
   "cell_type": "markdown",
   "metadata": {},
   "source": [
    "### CleanAGROSoutput.py -- James Sayre, jsayre@ucdavis.edu\n",
    "\n"
   ]
  },
  {
   "cell_type": "code",
   "execution_count": 9,
   "metadata": {},
   "outputs": [],
   "source": [
    "import pandas as pd\n",
    "import numpy as np\n",
    "import os\n",
    "import geopandas as gpd\n",
    "import matplotlib.pyplot as plt\n",
    "\n",
    "### Directories\n",
    "base_dir           =  \"/home/j/Dropbox/\"\n",
    "cd_dir             =  os.path.join(base_dir, \"INEGI_cds\")\n",
    "dosbox_dir         =  os.path.join(cd_dir,   \"dosbox_output\")\n",
    "output_dir         =  os.path.join(cd_dir,   \"Output\")\n",
    "\n",
    "### Inputs\n",
    "agros_sdfs         =  os.listdir(dosbox_dir)\n",
    "agros_vars         =  os.path.join(cd_dir, \"AGROS_vars.csv\")\n",
    "\n",
    "### Outputs\n",
    "agros_ageb         =  os.path.join(output_dir, \"AGROS_ageb.csv\")\n",
    "ageb_ag_91         =  os.path.join(output_dir, \"ageb_ag_91.csv\")\n",
    "mun_ag_91          =  os.path.join(output_dir, \"mun_ag_91.csv\")\n",
    "ageb_avo_91        =  os.path.join(output_dir, \"ageb_avo_91.csv\")\n",
    "\n",
    "### Programs\n",
    "\n",
    "### Codes\n",
    "state_keys = {'AGS':'01', 'BC':'02', 'BCS':'03', 'CAM':'04', 'CDMX':'09',\n",
    " 'CHH':'08', 'CHP':'07', 'COA':'05', 'COL':'06', 'DUR':'10',\n",
    " 'GRO':'12', 'GUA':'11', 'HDO':'13', 'JAL':'14', 'MEX':'15',\n",
    " 'MIC':'16', 'MOR':'17', 'NAY':'18', 'NLE':'19', 'OAX':'20',\n",
    " 'PUE':'21', 'QUE':'22', 'ROO':'23', 'SLP':'24', 'SIN':'25',\n",
    " 'SON':'26', 'TAB':'27', 'TAM':'28', 'TLA':'29', 'VER':'30',\n",
    " 'YUC':'31', 'ZAC':'32'}\n",
    "\n",
    "\n",
    "crop_to_name_dict = {'Sesame':'Sesame seeds', 'CactusPear':'Prickly pear', 'Melon':'Melons', 'Corn':'Maize', \n",
    "                     'Chili':'Green chile', 'Magueyes':'Agave', 'SugarCane':'Sugar', 'CultivatedGrasses':'Pastures', \n",
    "                     'Avocado':'Avocados', 'Peach':'Peaches', 'Lemon':'Lemons', 'Pear':'Pears', 'Cucumber':'Cucumbers', \n",
    "                     'GreenTomatoes':'Tomatilloes', 'Sesame':'Sesame seeds','OatForage':'Oats','Peanut':'Peanuts',\n",
    "                     'Onion':'Onions', 'ForageSorghum':'Sorghum silage','Zucchini':'Pumpkin','Banana':'Bananas',\n",
    "                     'SweetPotato':'Sweet potato','BarleyForage':'Barley','Cauliflower':'Cauliflowers',\n",
    "                     'Grape':'Grapes','CornSilage':'Maize silage','Orange':'Oranges','Estropajo':'Scourer',\n",
    "                     'Romeritos':'Romerito','Strawberry':'Strawberries','Pistachio':'Pistachios',\n",
    "                     'Papaya':'Papayas','Carrot':'Carrots','Cashew':'Cashews','Date':'Dates','Soy':'Soy beans',\n",
    "                     'Almond':'Almonds','WheatForage':'Wheat','Apricot':'Apricots','Mandarin':'Mandarins',\n",
    "                     'Cacao':'Cocoa','Coconut':'Coconuts','BroomSorghum':'Sorghum silage','BroadBean':'Green beans',\n",
    "                     'Pea':'Chickpeas','Yucca':'Sweet potato','Hawthorne':'Tejocote'}"
   ]
  },
  {
   "cell_type": "markdown",
   "metadata": {},
   "source": [
    "### Big warning!!! The variables differ across A and P sets in different states"
   ]
  },
  {
   "cell_type": "code",
   "execution_count": 18,
   "metadata": {},
   "outputs": [],
   "source": [
    "vardf             = pd.read_csv(agros_vars)\n",
    "vardf['type']     = vardf['var'].str[:1]\n",
    "gvars             = ['ageb']+list(vardf[vardf['type'] == 'G']['varname'].values)+['cve_ent','ent']\n",
    "avar_df           = vardf[vardf['type'] == 'A'].copy()\n",
    "avar_df['states'] = avar_df['states'].apply(lambda x: x.split(','))\n",
    "pvar_df           = vardf[vardf['type'] == 'P'].copy()\n",
    "pvar_df['states'] = pvar_df['states'].apply(lambda x: x.split(','))"
   ]
  },
  {
   "cell_type": "code",
   "execution_count": 41,
   "metadata": {},
   "outputs": [],
   "source": [
    "g_dfs, a_dfs, p_dfs = [], [], []\n",
    "for sdf in agros_sdfs:\n",
    "    st, datatype = sdf.split(\"_\")\n",
    "    datatype = datatype.split(\".\")[0]\n",
    "    cve_ent = state_keys[st]\n",
    "    df = pd.read_fwf(os.path.join(dosbox_dir,sdf),header=None)\n",
    "    df['cve_ent'] = cve_ent\n",
    "    df['ent'] = st\n",
    "    if datatype == \"G\":\n",
    "        df.columns = gvars\n",
    "        g_dfs.append(df)\n",
    "    elif datatype == \"A\":\n",
    "        avars = ['ageb']+list(avar_df[avar_df['states'].apply(lambda x: st in x)]['varname'].values)+['cve_ent','ent']\n",
    "        df.columns = avars\n",
    "        a_dfs.append(df)\n",
    "    elif datatype == \"P\":\n",
    "        pvars = ['ageb']+list(pvar_df[pvar_df['states'].apply(lambda x: st in x)]['varname'].values)+['cve_ent','ent']\n",
    "        df.columns = pvars\n",
    "        p_dfs.append(df)\n",
    "\n",
    "g_df = pd.concat(g_dfs)\n",
    "a_df = pd.concat(a_dfs)\n",
    "p_df = pd.concat(p_dfs)\n",
    "\n",
    "### 2025-03-13: Some perennials were thrown into annuals, need to deal with these\n",
    "false_annuals = [c for c in a_df.columns if (c in p_df.columns) and (c not in ['ageb','cve_ent','ent'])]\n",
    "a_columns_renamed = []\n",
    "for col in a_df.columns:\n",
    "    if col in false_annuals:\n",
    "        a_columns_renamed.append(col+'_2')\n",
    "    else:\n",
    "        a_columns_renamed.append(col)\n",
    "a_df.columns = a_columns_renamed\n",
    "\n",
    "ageb_df = g_df.merge(a_df, on=['ageb','cve_ent','ent']).merge(p_df, on=['ageb','cve_ent','ent']) ### how doesn't matter, all merges = 3\n",
    "ageb_df['ageb'] = ageb_df['cve_ent'].astype(str) + ageb_df['ageb'].astype(str)\n",
    "ageb_df = ageb_df[['cve_ent','ent']+[col for col in ageb_df.columns if col not in ['cve_ent','ent']]]\n",
    "\n",
    "for fake_an in false_annuals:\n",
    "    ageb_df[fake_an] = ageb_df[fake_an].fillna(ageb_df[fake_an+'_2'])\n",
    "ageb_df = ageb_df.drop([c+'_2' for c in false_annuals],axis=1)\n",
    "\n",
    "ageb_df = ageb_df.sort_values(by='ageb').reset_index(drop=True)\n",
    "ageb_df.to_csv(agros_ageb, index=False)"
   ]
  },
  {
   "cell_type": "code",
   "execution_count": 43,
   "metadata": {},
   "outputs": [],
   "source": [
    "ag_prod_df = ageb_df[['ageb','cve_ent','ent']+list(set(list(vardf[vardf['type'].isin(['A','P'])]['varname'].values)))]\n",
    "\n",
    "ag_prod_df = ag_prod_df.drop(['UnsForestryArea', 'UnsAnnuCropsPV', 'TotAreaPV', 'UnsAnnuCropsOI', 'TotAreaOI', 'UnsAnnuCropsBoth', \n",
    "                              'UsedAreaBoth', 'UnsPerenCrops', 'TotAreaPeren', 'UnsGreenhouses', 'UnsNurseries', 'UnsTechAgr', \n",
    "                              'UnsDraftAnimals', 'UnsTractor', 'UnsOwnTractor', 'UnsAgrEquip', 'PineVolCut', 'OakVolCut', \n",
    "                              'OyamelVolCut', 'OtherSpeciesVol', 'UnsForestryTech', 'UnsForestProducts', 'UnsForestryEquip'], axis=1)\n",
    "\n",
    "ag_prod_df = pd.wide_to_long(ag_prod_df, stubnames=['Uns', 'ha_sem_', 'ha_cos_', 'q_'], \n",
    "                          i=['ageb', 'cve_ent', 'ent'], j='Crop', sep='', suffix=r'\\w+')\n",
    "\n",
    "# Reset the index to make 'Crop' a column\n",
    "ag_prod_df.reset_index(inplace=True)\n",
    "ag_prod_df['Crop'] = ag_prod_df['Crop'].apply(lambda x: crop_to_name_dict[x] if x in crop_to_name_dict.keys() else x)\n",
    "ag_prod_df['muncode'] = ag_prod_df['ageb'].str[:5]\n",
    "ag_prod_df['Uns'] = ag_prod_df['Uns'].apply(lambda x: float(str(x).replace('*','1.5')))\n",
    "ag_prod_df['no_data'] = (ag_prod_df['Uns'].isnull() & ag_prod_df['ha_sem_'].isnull() & ag_prod_df['ha_cos_'].isnull() & ag_prod_df['q_'].isnull())\n",
    "ag_prod_df['no_data'] = ag_prod_df['no_data'].apply(lambda x: 1 if x else 0)\n",
    "ag_prod_df = ag_prod_df.groupby(['ageb','cve_ent','ent','muncode','Crop']).sum().reset_index()\n",
    "ag_prod_df.rename(columns={'ha_sem_':'ha_sem', 'ha_cos_':'ha_cos', 'q_':'q'}, inplace=True)\n",
    "ag_prod_df.to_csv(ageb_ag_91, index=False)\n",
    "### Write to muncode data\n",
    "ag_prod_df.groupby(['cve_ent','ent','muncode','Crop']).sum().reset_index().drop('no_data',axis=1).to_csv(mun_ag_91, index=False)"
   ]
  }
 ],
 "metadata": {
  "kernelspec": {
   "display_name": "base",
   "language": "python",
   "name": "python3"
  },
  "language_info": {
   "codemirror_mode": {
    "name": "ipython",
    "version": 3
   },
   "file_extension": ".py",
   "mimetype": "text/x-python",
   "name": "python",
   "nbconvert_exporter": "python",
   "pygments_lexer": "ipython3",
   "version": "3.9.15"
  },
  "vscode": {
   "interpreter": {
    "hash": "a77d8c3dd7e6e972e019be1540f4ebd7fa9e3c66783be27443f83372c691781e"
   }
  }
 },
 "nbformat": 4,
 "nbformat_minor": 2
}
